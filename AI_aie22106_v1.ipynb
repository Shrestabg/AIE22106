{
 "cells": [
  {
   "cell_type": "code",
   "execution_count": 12,
   "id": "4c0bf936-f4ab-48d0-a9df-a0e3c89f7c7d",
   "metadata": {},
   "outputs": [
    {
     "name": "stdin",
     "output_type": "stream",
     "text": [
      "Enter a string:  shresta\n"
     ]
    },
    {
     "name": "stdout",
     "output_type": "stream",
     "text": [
      "Number of vowels: 2\n",
      "Number of consonants: 5\n"
     ]
    }
   ],
   "source": [
    "def Counting_vowels_and_consonants(string):\n",
    "    vowels = ['a', 'e', 'i', 'o', 'u']\n",
    "    vowels_count = 0\n",
    "    consonants_count = 0\n",
    "\n",
    "    for char in string.lower():\n",
    "        if char.isalpha():\n",
    "            if char in vowels:\n",
    "                vowels_count += 1\n",
    "            else:\n",
    "                consonants_count += 1\n",
    "\n",
    "    return vowels_count, consonants_count\n",
    "\n",
    "def main():\n",
    "    input_string = input(\"Enter a string: \")\n",
    "    vowels, consonants = Counting_vowels_and_consonants(input_string)\n",
    "\n",
    "    print(\"Number of vowels:\", vowels)\n",
    "    print(\"Number of consonants:\", consonants)\n",
    "\n",
    "if __name__ == \"__main__\":\n",
    "    main()"
   ]
  },
  {
   "cell_type": "code",
   "execution_count": 13,
   "id": "023f3f88-3f61-46b3-9f16-ad5ed429925f",
   "metadata": {},
   "outputs": [
    {
     "name": "stdin",
     "output_type": "stream",
     "text": [
      "Enter the number of rows in matrix A:  2\n",
      "Enter the number of columns in matrix A:  2\n",
      "Enter the number of rows in matrix B:  2\n",
      "Enter the number of columns in matrix B:  2\n"
     ]
    },
    {
     "name": "stdout",
     "output_type": "stream",
     "text": [
      "Enter the elements of matrix A:\n"
     ]
    },
    {
     "name": "stdin",
     "output_type": "stream",
     "text": [
      " 1\n",
      " 2\n",
      " 3\n",
      " 4\n"
     ]
    },
    {
     "name": "stdout",
     "output_type": "stream",
     "text": [
      "Enter the elements of matrix B:\n"
     ]
    },
    {
     "name": "stdin",
     "output_type": "stream",
     "text": [
      " 5\n",
      " 6\n",
      " 7\n",
      " 8\n"
     ]
    },
    {
     "name": "stdout",
     "output_type": "stream",
     "text": [
      "Product of matrices A and B:\n",
      "[19, 22]\n",
      "[43, 50]\n"
     ]
    }
   ],
   "source": [
    "def Multiplication(A, B):\n",
    "    product = [[0 for _ in range(len(B[0]))] for _ in range(len(A))]\n",
    "    \n",
    "    # Performing matrix multiplication\n",
    "    for i in range(len(A)):\n",
    "        for j in range(len(B[0])):\n",
    "            for k in range(len(B)):\n",
    "                product[i][j] += A[i][k] * B[k][j]\n",
    "    \n",
    "    return product\n",
    "\n",
    "def main():\n",
    "    rows_of_A = int(input(\"Enter the number of rows in matrix A: \"))\n",
    "    cols_of_A = int(input(\"Enter the number of columns in matrix A: \"))\n",
    "    rows_of_B = int(input(\"Enter the number of rows in matrix B: \"))\n",
    "    cols_of_B = int(input(\"Enter the number of columns in matrix B: \"))\n",
    "    \n",
    "    # Checking if matrices are multipliable\n",
    "    if cols_of_A != rows_of_B:\n",
    "        print(\"Error: Matrices are not multipliable.\")\n",
    "        return\n",
    "    \n",
    "    A = []\n",
    "    print(\"Enter the elements of matrix A:\")\n",
    "    for _ in range(rows_of_A):\n",
    "        row = []\n",
    "        for _ in range(cols_of_A):\n",
    "            element = int(input())\n",
    "            row.append(element)\n",
    "        A.append(row)\n",
    "    \n",
    "    B = []\n",
    "    print(\"Enter the elements of matrix B:\")\n",
    "    for _ in range(rows_of_B):\n",
    "        row = []\n",
    "        for _ in range(cols_of_B):\n",
    "            element = int(input())\n",
    "            row.append(element)\n",
    "        B.append(row)\n",
    "    \n",
    "    # Performing matrix multiplication\n",
    "    product = Multiplication(A, B)\n",
    "    print(\"Product of matrices A and B:\")\n",
    "    for row in product:\n",
    "        print(row)\n",
    "\n",
    "if __name__ == \"__main__\":\n",
    "    main()"
   ]
  },
  {
   "cell_type": "code",
   "execution_count": 14,
   "id": "33a277ce-2670-45ba-ab88-dce071ef4c8d",
   "metadata": {},
   "outputs": [
    {
     "name": "stdin",
     "output_type": "stream",
     "text": [
      "Enter the elements of the first list (space-separated):  1 2 3 4 5 6\n",
      "Enter the elements of the second list (space-separated):  4 5 6 7 8 9\n"
     ]
    },
    {
     "name": "stdout",
     "output_type": "stream",
     "text": [
      "Number of common elements: 3\n"
     ]
    }
   ],
   "source": [
    "def main():\n",
    "    \n",
    "    list_1 = input(\"Enter the elements of the first list (space-separated): \").split()\n",
    "    list_1 = [int(num) for num in list_1]\n",
    "\n",
    "    list_2 = input(\"Enter the elements of the second list (space-separated): \").split()\n",
    "    list_2 = [int(num) for num in list_2]\n",
    "\n",
    "    # Finding the common elements between the two lists\n",
    "    common_elements = set(list_1) & set(list_2)\n",
    "    print(\"Number of common elements:\", len(common_elements))\n",
    "\n",
    "if __name__ == \"__main__\":\n",
    "    main()"
   ]
  },
  {
   "cell_type": "code",
   "execution_count": 15,
   "id": "691d6e8e-a718-4b40-85de-713193352fbb",
   "metadata": {},
   "outputs": [
    {
     "name": "stdin",
     "output_type": "stream",
     "text": [
      "Enter the number of rows:  3\n",
      "Enter the number of columns:  3\n",
      "Enter element at position (1, 1):  1\n",
      "Enter element at position (1, 2):  2\n",
      "Enter element at position (1, 3):  3\n",
      "Enter element at position (2, 1):  4\n",
      "Enter element at position (2, 2):  5\n",
      "Enter element at position (2, 3):  6\n",
      "Enter element at position (3, 1):  7\n",
      "Enter element at position (3, 2):  8\n",
      "Enter element at position (3, 3):  9\n"
     ]
    },
    {
     "name": "stdout",
     "output_type": "stream",
     "text": [
      "Original Matrix:\n",
      "[1, 2, 3]\n",
      "[4, 5, 6]\n",
      "[7, 8, 9]\n",
      "Transposed Matrix:\n",
      "[1, 4, 7]\n",
      "[2, 5, 8]\n",
      "[3, 6, 9]\n"
     ]
    }
   ],
   "source": [
    "def Transpose_of_matrix(matrix):\n",
    "    rows = len(matrix)\n",
    "    cols = len(matrix[0])\n",
    "    \n",
    "    transposed_matrix = [[0 for _ in range(rows)] for _ in range(cols)]\n",
    "    \n",
    "    for i in range(rows):\n",
    "        for j in range(cols):\n",
    "            transposed_matrix[j][i] = matrix[i][j]\n",
    "    \n",
    "    return transposed_matrix\n",
    "\n",
    "def main():\n",
    "    rows = int(input(\"Enter the number of rows: \"))\n",
    "    cols = int(input(\"Enter the number of columns: \"))\n",
    "    \n",
    "    matrix = []\n",
    "    for i in range(rows):\n",
    "        row = []\n",
    "        for j in range(cols):\n",
    "            element = int(input(f\"Enter element at position ({i+1}, {j+1}): \"))\n",
    "            row.append(element)\n",
    "        matrix.append(row)\n",
    "\n",
    "    print(\"Original Matrix:\")\n",
    "    for row in matrix:\n",
    "        print(row)\n",
    "        \n",
    "    transposed_matrix = Transpose_of_matrix(matrix)\n",
    "    \n",
    "    print(\"Transposed Matrix:\")\n",
    "    for row in transposed_matrix:\n",
    "        print(row)\n",
    "\n",
    "if __name__ == \"__main__\":\n",
    "    main()\n"
   ]
  },
  {
   "cell_type": "code",
   "execution_count": null,
   "id": "8a3bfc13-74f2-4c88-b1a4-1a062d4e7cfe",
   "metadata": {},
   "outputs": [],
   "source": []
  }
 ],
 "metadata": {
  "kernelspec": {
   "display_name": "Python 3 (ipykernel)",
   "language": "python",
   "name": "python3"
  },
  "language_info": {
   "codemirror_mode": {
    "name": "ipython",
    "version": 3
   },
   "file_extension": ".py",
   "mimetype": "text/x-python",
   "name": "python",
   "nbconvert_exporter": "python",
   "pygments_lexer": "ipython3",
   "version": "3.11.4"
  }
 },
 "nbformat": 4,
 "nbformat_minor": 5
}
